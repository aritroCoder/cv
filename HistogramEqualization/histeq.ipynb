{
 "cells": [
  {
   "cell_type": "code",
   "execution_count": 4,
   "metadata": {},
   "outputs": [],
   "source": [
    "import cv2\n",
    "import os\n",
    "\n",
    "def HistEq(img_dir):\n",
    "    for img_n in os.listdir(img_dir):\n",
    "        img_path = os.path.join(img_dir, img_n)\n",
    "        img = cv2.imread(img_path, 1)\n",
    "        R, G, B = cv2.split(img)\n",
    "        output1_R = cv2.equalizeHist(R)\n",
    "        output1_G = cv2.equalizeHist(G)\n",
    "        output1_B = cv2.equalizeHist(B)\n",
    "        equ = cv2.merge((output1_R, output1_G, output1_B))\n",
    "        cv2.imwrite(f'./output_img/{img_n}', equ)"
   ]
  },
  {
   "cell_type": "code",
   "execution_count": 5,
   "metadata": {},
   "outputs": [],
   "source": [
    "HistEq('./test_img_resized/')"
   ]
  },
  {
   "cell_type": "markdown",
   "metadata": {},
   "source": [
    "### Retinex Command\n",
    "Run this in `py36` environment\n",
    "```bash\n",
    "python main.py --use_gpu=1 --gpu_idx=0 --gpu_mem=0.5 --phase=test --test_dir=./test_img_resized/ --save_dir=./output_img/ --decom=0\n",
    "```"
   ]
  }
 ],
 "metadata": {
  "kernelspec": {
   "display_name": "cv",
   "language": "python",
   "name": "python3"
  },
  "language_info": {
   "codemirror_mode": {
    "name": "ipython",
    "version": 3
   },
   "file_extension": ".py",
   "mimetype": "text/x-python",
   "name": "python",
   "nbconvert_exporter": "python",
   "pygments_lexer": "ipython3",
   "version": "3.9.0"
  }
 },
 "nbformat": 4,
 "nbformat_minor": 2
}
